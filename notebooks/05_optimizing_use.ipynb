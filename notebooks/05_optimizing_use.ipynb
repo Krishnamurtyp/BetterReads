{
 "cells": [
  {
   "cell_type": "markdown",
   "metadata": {},
   "source": [
    "# BetterReads: Optimizing the Universal Sentence Encoder\n",
    "\n",
    "This notebook is a short investigation into which version of the Universal Sentence Encoder should be used for the BetterReads algorithm.\n",
    "\n",
    "There are two versions of the Universal Sentence Encoder currently made available through TensorFlow Hub: [`universal-sentence-encoder`](https://tfhub.dev/google/universal-sentence-encoder/4) and [`universal-sentence-encoder-large`](https://tfhub.dev/google/universal-sentence-encoder-large/5). These two encoders are also referred to as Encoders 4 and 5, respectively. Curiously, `universal-sentence-encoder-large` seems to be about half the size of `universal-sentence-coder`, and Encoder 4, not 5, seems to be TensorFlow's recommended version.\n",
    "\n",
    "We have been using Encoder 4 thus far, as it's the default option in TensorFlow Hub. But it's possible that Encoder 5 will perform better than Encoder 4, either in terms of our model's output or in terms of our model's performance time. Let's see what, if any, differences we can observe."
   ]
  },
  {
   "cell_type": "code",
   "execution_count": 1,
   "metadata": {},
   "outputs": [],
   "source": [
    "import numpy as np\n",
    "import pandas as pd\n",
    "from sklearn.cluster import KMeans\n",
    "import tensorflow_hub as hub"
   ]
  },
  {
   "cell_type": "markdown",
   "metadata": {},
   "source": [
    "## Load time performance\n",
    "\n",
    "To begin, let's compare how long it takes for each encoder to be loaded. We will time both the local and the remote load time."
   ]
  },
  {
   "cell_type": "code",
   "execution_count": 2,
   "metadata": {},
   "outputs": [
    {
     "name": "stdout",
     "output_type": "stream",
     "text": [
      "CPU times: user 12.8 s, sys: 3.88 s, total: 16.6 s\n",
      "Wall time: 44.5 s\n"
     ]
    }
   ],
   "source": [
    "%%time\n",
    "# Loads Universal Sentence Encoder remotely, from Tensorflow Hub\n",
    "use_4_embed = hub.load(\"https://tfhub.dev/google/universal-sentence-encoder/4\")"
   ]
  },
  {
   "cell_type": "code",
   "execution_count": 3,
   "metadata": {},
   "outputs": [
    {
     "name": "stdout",
     "output_type": "stream",
     "text": [
      "CPU times: user 6.12 s, sys: 1.96 s, total: 8.08 s\n",
      "Wall time: 15.4 s\n"
     ]
    }
   ],
   "source": [
    "%%time\n",
    "# Loads Universal Sentence Encoder locally, from downloaded module\n",
    "use_4_embed = hub.load('../../Universal Sentence Encoder/module/')"
   ]
  },
  {
   "cell_type": "code",
   "execution_count": 4,
   "metadata": {},
   "outputs": [
    {
     "name": "stdout",
     "output_type": "stream",
     "text": [
      "CPU times: user 17.7 s, sys: 3.51 s, total: 21.2 s\n",
      "Wall time: 35.4 s\n"
     ]
    }
   ],
   "source": [
    "%%time\n",
    "use_5_embed = hub.load(\"https://tfhub.dev/google/universal-sentence-encoder-large/5\")"
   ]
  },
  {
   "cell_type": "code",
   "execution_count": 5,
   "metadata": {},
   "outputs": [
    {
     "name": "stdout",
     "output_type": "stream",
     "text": [
      "CPU times: user 13.8 s, sys: 1.76 s, total: 15.6 s\n",
      "Wall time: 16.6 s\n"
     ]
    }
   ],
   "source": [
    "%%time\n",
    "use_5_embed = hub.load('../../Universal Sentence Encoder/module-5/')"
   ]
  },
  {
   "cell_type": "markdown",
   "metadata": {},
   "source": [
    "As we can see here, the local load time is longer for Encoder 5, whereas the remote load time is longer for Encoder 4. These are strange results, but need not be taken as tremendeously important, since the differences in load times are not significant.\n",
    "\n",
    "## Encoding time performance\n",
    "\n",
    "Now let's compare how long it takes for each encoder to embed a dataset of sentences."
   ]
  },
  {
   "cell_type": "code",
   "execution_count": 6,
   "metadata": {},
   "outputs": [],
   "source": [
    "# Set path for processed file\n",
    "file_path = 'data/32187419_conversations_with_friends_top_300.csv'\n",
    "\n",
    "# Read in processed file as dataframe\n",
    "df = pd.read_csv(file_path)\n",
    "\n",
    "# Copy sentence column to new variable\n",
    "sentences = df['sentence'].copy()"
   ]
  },
  {
   "cell_type": "code",
   "execution_count": 7,
   "metadata": {},
   "outputs": [
    {
     "name": "stdout",
     "output_type": "stream",
     "text": [
      "CPU times: user 790 ms, sys: 467 ms, total: 1.26 s\n",
      "Wall time: 1.32 s\n"
     ]
    }
   ],
   "source": [
    "%%time\n",
    "# Vectorize sentences\n",
    "sentence_vectors_4 = use_4_embed(sentences)"
   ]
  },
  {
   "cell_type": "code",
   "execution_count": 8,
   "metadata": {},
   "outputs": [
    {
     "name": "stdout",
     "output_type": "stream",
     "text": [
      "CPU times: user 46.6 s, sys: 10.9 s, total: 57.5 s\n",
      "Wall time: 26.4 s\n"
     ]
    }
   ],
   "source": [
    "%%time\n",
    "sentence_vectors_5 = use_5_embed(sentences)"
   ]
  },
  {
   "cell_type": "markdown",
   "metadata": {},
   "source": [
    "As we can see here, the encoding time is significantly longer with Encoder 5. (Indeed, when I first tried this out with a bigger dataset, encoding the sentences with Encoder 5 crashed my kernel.) This difference in performance is perhaps sufficient reason to prefer Encoder 4 over Encoder 5. But before making any decisions let's see if the two embeddings lead to any noticeable differences in their results.\n",
    "\n",
    "## Output performance\n",
    "\n",
    "Lastly let's compare the output of our model using our two different sentence embeddings."
   ]
  },
  {
   "cell_type": "code",
   "execution_count": 10,
   "metadata": {},
   "outputs": [],
   "source": [
    "def get_clusters(sentences, sentence_vectors, k, n):\n",
    "    '''\n",
    "    Function to extract the n most representative sentences from k clusters, with density scores\n",
    "    '''\n",
    "    \n",
    "    # Instantiate the model\n",
    "    kmeans_model = KMeans(n_clusters=k, random_state=24)\n",
    "\n",
    "    # Fit the model\n",
    "    kmeans_model.fit(sentence_vectors);\n",
    "\n",
    "    # Set the number of cluster centre points to look at when calculating density score\n",
    "    centre_points = int(len(sentences) * 0.02)\n",
    "    \n",
    "    # Initialize list to store mean inner product value for each cluster\n",
    "    cluster_density_scores = []\n",
    "    \n",
    "    # Initialize dataframe to store cluster centre sentences\n",
    "    df = pd.DataFrame()\n",
    "\n",
    "    # Loop through number of clusters\n",
    "    for i in range(k):\n",
    "\n",
    "        # Define cluster centre\n",
    "        centre = kmeans_model.cluster_centers_[i]\n",
    "\n",
    "        # Calculate inner product of cluster centre and sentence vectors\n",
    "        ips = np.inner(centre, sentence_vectors)\n",
    "\n",
    "        # Find the sentences with the highest inner products\n",
    "        top_indices = pd.Series(ips).nlargest(n).index\n",
    "        top_sentences = list(sentences[top_indices])\n",
    "        \n",
    "        centre_ips = pd.Series(ips).nlargest(centre_points)\n",
    "        density_score = round(np.mean(centre_ips), 5)\n",
    "        \n",
    "        # Append the cluster density score to master list\n",
    "        cluster_density_scores.append(density_score)\n",
    "\n",
    "        # Create new row with cluster's top 10 sentences and density score\n",
    "        new_row = pd.Series([top_sentences, density_score])\n",
    "        \n",
    "        # Append new row to master dataframe\n",
    "        df = df.append(new_row, ignore_index=True)\n",
    "\n",
    "    # Rename dataframe columns\n",
    "    df.columns = ['sentences', 'density']\n",
    "\n",
    "    # Sort dataframe by density score, from highest to lowest\n",
    "    df = df.sort_values(by='density', ascending=False).reset_index(drop=True)\n",
    "    \n",
    "    # Loop through number of clusters selected\n",
    "    for i in range(k):\n",
    "        \n",
    "        # Save density / similarity score & sentence list to variables\n",
    "        sim_score = round(df.loc[i][\"density\"], 3)\n",
    "        sents = df.loc[i]['sentences'].copy()\n",
    "        \n",
    "        print(f'Cluster #{i+1} sentences (density score: {sim_score}):\\n')\n",
    "        print(*sents, sep='\\n')\n",
    "        print('\\n')\n",
    "        \n",
    "    model_density_score = round(np.mean(cluster_density_scores), 5)\n",
    "    \n",
    "    print(f'Model density score: {model_density_score}')"
   ]
  },
  {
   "cell_type": "code",
   "execution_count": 12,
   "metadata": {
    "scrolled": true
   },
   "outputs": [
    {
     "name": "stdout",
     "output_type": "stream",
     "text": [
      "Cluster #1 sentences (density score: 0.44):\n",
      "\n",
      "i just cannot get over how well Sally Rooney writes.\n",
      "I finished CONVERSATIONS WITH FRIENDS by Sally Rooney this morning and once again I am in awe of Rooney's writing.\n",
      "Rooney really seems to understand the lives of her chracters.\n",
      "I'm looking forward to reading anything else that Sally Rooney writes.\n",
      "Sally Rooney has become one of my favorite writers.\n",
      "Rooney is an excellent writer; I desperately hope she is just getting started.\n",
      "Sally Rooney makes me feel like I could do anything in life as long as I wrote about it well.\n",
      "I can’t wait to read whatever Sally Rooney comes out with next!\n",
      "\n",
      "\n",
      "Cluster #2 sentences (density score: 0.365):\n",
      "\n",
      "There were times I was curious to see how it would play out with Frances & Nick, as well as Frances' relationship with Bobbi.\n",
      "The book follows Frances and her best friend Bobbi, who become entangled with a married couple, Nick and Melissa.\n",
      "Frances and Nick end up in a relationship and the conversations between them are low-key and unemotional on the surface; however, Frances is concealing her thoughts from herself.\n",
      "Bobbie is interested in Melissa, while Frances falls in love with Nick and they start having an affair.\n",
      "This book revolves around two college students in Dublin named Frances and Bobbi and their relationship with Melissa & Nick who are a married couple they meet early in the story.\n",
      "In short, this novel focuses on friends Frances and Bobbi and the interesting relationship that they share with a married couple.\n",
      "Their lives become entwined, but we mostly follow the relationships between Frances and Bobbi, and Frances and Nick, after they start having an affair.\n",
      "Another problem is that the main protagonists, Frances and her older, married paramour, Nick are just not very interesting.\n",
      "\n",
      "\n",
      "Cluster #3 sentences (density score: 0.361):\n",
      "\n",
      "Turns out that I absolutely loved this book.\n",
      "Ok, this book is interesting and I am not disappointed to have read it.\n",
      "I am delightfully surprised by how much I loved this book.\n",
      "Anyway, I loved this book so much!\n",
      "I’ve had this book on my TBR list for a while, so I was really excited when I found out that it would be the next book group read.\n",
      "I really didn't find this book too interesting.\n",
      "I loved everything about this book.\n",
      "I heard very good reviews of this book before reading it so I’m not sure if I’m overly influenced by those .\n",
      "\n",
      "\n",
      "Cluster #4 sentences (density score: 0.339):\n",
      "\n",
      "I think the merits of this book lie in the writing and the characters (although I also thought the characters were somewhat insufferable and pretentious).\n",
      "I even felt in the beginning that the book felt not very special, with the odd writing style and the slightly unlikeable characters.\n",
      "The author's writing is pretty good, I just didn't really like the characters and never really seemed to connect with them, which then makes me not as engaged with the plot line.\n",
      "It’s really interesting because some of her characters are unlikeable at times, but they feel realistic and they always develop as the story goes on and it’s really quite entertaining to read about.\n",
      "the characters aren’t particularly likeable, and the situation they are in isn’t particularly common, but it is interesting and I can tell it’s very well written.\n",
      "I liked the way it facilitated the story, but unlike in some other novels, the writing style isn't a notable part of the experience of Conversations with Friends.\n",
      "I really liked the ending and the way the protagonist was portrayed by the author (I saw a lot of myself in her, or rather I saw the worst side of myself) but at the same time I was frustrated with her character arc.\n",
      "I enjoy reading about self-centered, unlikeable characters but they have to be interesting which was not the case for me.\n",
      "\n",
      "\n",
      "Cluster #5 sentences (density score: 0.22):\n",
      "\n",
      "I'm glad I perserverd though and then it really drew me in.\n",
      "but actually I enjoyed it more than I thought I would.\n",
      "I won’t even begin to try to intellectualize why I liked it.\n",
      "I wasn't expecting to like it - full of moany twenty-somethings - I'd heard.\n",
      "I felt like I was supposed to be predisposed to like this.\n",
      "Sooooo, it took me a while to gather my thoughts on this one and I still have mixed feelings about it.\n",
      "I can see why people would hate this, but I loved it.\n",
      "The weird thing, though, is that I did really enjoy it.\n",
      "\n",
      "\n",
      "Cluster #6 sentences (density score: 0.205):\n",
      "\n",
      "Whereas Normal People spoke a bit more to the gravitational pull of a romantic relationship, Conversations With Friends captured the main character’s dysfunction and yearning to just be seen and valued by those around her.\n",
      "Her characters can be so swooningly affectionate with one another--and so ferociously cutting and so perfectly empathetic--that even at their most toxic moments (and there are lots), watching their relationships unfold feels like a privilege.\n",
      "She's insightful about the emotions involved in falling in love when one is both young and doing one's best to not admit to any sort of emotional entanglement.\n",
      "The way she writes relationships and conversations between the characters, making them normal and not artefact at all but at the same time not being trivial, it's exquisite.\n",
      "Altogether Conversations With Friends is an intelligent character study on falling in love, cultivating a relationship, and all of the simplicities and complexities that come with it.\n",
      "The plot offers nothing new either, there's been plenty of books on naive young adults pursuing unhealthy relationships before, as well as characters who make drama out of nothing and try to drag others in to their narcissism.\n",
      "It’s a beautiful and subtle novel with emotionally charged characters and nuances that felt so natural, mirroring the everyday aspects and constants in somebody’s lives: as simple as having a conversation with a friend.\n",
      "Sally Rooney’s novel, Conversations With Friends, reveals the complexities of relationships in the onset of love, platonically and otherwise, with a direct honesty and realism that made it difficult not to relate to.\n",
      "\n",
      "\n",
      "Model density score: 0.32165\n"
     ]
    }
   ],
   "source": [
    "# Get cluster sentences with Encoder 4 embeddings\n",
    "get_clusters(sentences, sentence_vectors_4, k=6, n=8)"
   ]
  },
  {
   "cell_type": "code",
   "execution_count": 14,
   "metadata": {
    "scrolled": true
   },
   "outputs": [
    {
     "name": "stdout",
     "output_type": "stream",
     "text": [
      "Cluster #1 sentences (density score: 0.491):\n",
      "\n",
      "Rooney is brilliant and her writing so precise.\n",
      "One last thing: I am always so impressed by the way Rooney ends her novels, especially this particular one.\n",
      "I really love Rooney her writing style.\n",
      "I’m so impressed by the way Rooney brings her characters interior worlds into contact with the outside world, gently manipulating her readers’ expectations and not always giving the reader what they want.\n",
      "I really admire Sally Rooney’s writing.\n",
      "Rooney is an excellent writer; I desperately hope she is just getting started.\n",
      "I think I've fallen in love with Rooney's writing style and the way she describes feelings.\n",
      "I finished CONVERSATIONS WITH FRIENDS by Sally Rooney this morning and once again I am in awe of Rooney's writing.\n",
      "\n",
      "\n",
      "Cluster #2 sentences (density score: 0.449):\n",
      "\n",
      "Frances is wonderfully specific, her self-perception as unemotional/flat/lacking a personality developed in a way that somehow feels both novel and relatable.\n",
      "Frances was such an intriguing character, so unlike a main character I’ve really read before and I found myself so mesmerised by her thoughts, her actions and her self destructive behaviours.\n",
      "Frances is fairly self absorbed and selfish, which made me instantly not like her.\n",
      "Frances is a character you either love or hate, as her selfishness can hit you right in the face.\n",
      "In general I could relate so well to Frances, even though she was annoying and immature at times, because she felt so much like a real human.\n",
      "I liked all the little details that make Frances such an interesting (but disturbing) character: her misreadings, unfiltered by her older self, her overanalysations, her being so clever about one thing and so dense about the other.\n",
      "I found Frances particularly fascinating, and could never quite guess what she was going to do next; there were psychological depths to her character.\n",
      "All this makes Frances while not a completely sympathetic character at least a partly deep one – as perhaps the biggest issue with this book is the superficiality of the other characters and their privileged, directionless lives.\n",
      "\n",
      "\n",
      "Cluster #3 sentences (density score: 0.427):\n",
      "\n",
      "Bobbi develops an infatuation with Melissa, and Frances with Nick.\n",
      "Frances and Bobbi are roommates/past lovers and they start a relationship with Nick and Melissa, an actor and well-known photographer.\n",
      "Bobbi develops a crush on Melissa, and before too long Frances falls for Nick.\n",
      "”Along with her ex-lover and best friend, Bobbi, Frances is a young university student who starts to run in the same circle with a writer, Melissa, and her actor husband, Nick.\n",
      "Frances and Nick begin an affair which gets intense, and much of these characters’ relationships with one another thicken when Bobbi and Melissa find out.\n",
      "But as Bobbi is instantly infatuated with Melissa, it leads to a burgeoning and more significant relationship between Frances and Nick.\n",
      "While the outgoing and opinionated Bobbi forms a quick friendship with Melissa, Frances is drawn to Nick.\n",
      "The book follows Frances and her best friend Bobbi, who become entangled with a married couple, Nick and Melissa.\n",
      "\n",
      "\n",
      "Cluster #4 sentences (density score: 0.388):\n",
      "\n",
      "While the writing was very fluid, I just couldn't enjoy myself while reading this book because the story and the characters were so flat.\n",
      "Even though I've only been done reading it for a week the story and its characters are already dissolving from my mind leaving me a little unsure if I truly did enjoy this book.\n",
      "This is a book I was surprised to love, but love it I did.\n",
      "That's what my reading experience of this book was like, and somehow these feelings have lasted since I've finished.\n",
      "I say enjoyable, but this book kinda leaves me with the same depressring feelings as I had after reading Normal People though.\n",
      "I think the merits of this book lie in the writing and the characters (although I also thought the characters were somewhat insufferable and pretentious).\n",
      "I feel so effusive about this novel that it's going to take some doing to not write a book's worth of praise.\n",
      "This is a book that left me speechless after finishing it.\n",
      "\n",
      "\n",
      "Cluster #5 sentences (density score: 0.215):\n",
      "\n",
      "I'm glad I perserverd though and then it really drew me in.\n",
      "I mostly liked the writing style, although I suppose it was occasionally a bit self-conscious.\n",
      "If the writing had been more to my preference, I might have been able to see beyond the rather dull story.\n",
      "I felt like I was supposed to be predisposed to like this.\n",
      "The weird thing, though, is that I did really enjoy it.\n",
      "As far as the story, I can't say I enjoyed it, but I was interested.\n",
      "Unfortunately, this didn't appeal to me as much.\n",
      "Sooooo, it took me a while to gather my thoughts on this one and I still have mixed feelings about it.\n",
      "\n",
      "\n",
      "Cluster #6 sentences (density score: 0.186):\n",
      "\n",
      "I think it’s the fact that she introduces and explores such interesting characters and the relationships and the dynamics within those relationships that they have with other people.\n",
      "The way she writes relationships and conversations between the characters, making them normal and not artefact at all but at the same time not being trivial, it's exquisite.\n",
      "It's astonishing how relatable the characters' in her novels are, at least to me.\n",
      "Like Normal People, Conversations with Friends has no plot and is about the characters and their relationships.\n",
      "It’s really interesting because some of her characters are unlikeable at times, but they feel realistic and they always develop as the story goes on and it’s really quite entertaining to read about.\n",
      "The writing itself is quite good in terms of realistic dialogue and description, but I found all of the characters entirely unlikable and hard to empathize with, very few with any positive animating traits, mostly just self-absorbed, narcissistic, occasionally cruel and capricious.\n",
      "It's just that it made for frustrating reading at times - all of these relatively privileged but kind of dull people wrapped up in their own personal issues at all times.\n",
      "Her characters can be so swooningly affectionate with one another--and so ferociously cutting and so perfectly empathetic--that even at their most toxic moments (and there are lots), watching their relationships unfold feels like a privilege.\n",
      "\n",
      "\n",
      "Model density score: 0.35931\n"
     ]
    }
   ],
   "source": [
    "# Get cluster sentences with Encoder 5 embeddings\n",
    "get_clusters(sentences, sentence_vectors_5, k=6, n=8)"
   ]
  },
  {
   "cell_type": "markdown",
   "metadata": {},
   "source": [
    "Here can we see that the two sentence embeddings do indeed lead to different output. It is hard to compare these two sets of results to one another, but our intuitive judgment is that Encoder 5's results are slightly to be preferred: they include a higher proportion of meaningful clusters, and the individual clusters exhibit a higher degree of similarity.\n",
    "\n",
    "But perhaps these differences are just do to some peculiarities in this particular dataset. Let's try out the two encoders on a different dataset and see how those results compare."
   ]
  },
  {
   "cell_type": "code",
   "execution_count": 15,
   "metadata": {},
   "outputs": [],
   "source": [
    "# Set path for processed file\n",
    "file_path = 'data/19161852_the_fifth_season.csv'\n",
    "\n",
    "# Read in processed file as dataframe\n",
    "df = pd.read_csv(file_path)\n",
    "\n",
    "# Copy sentence column to new variable\n",
    "sentences = df['sentence'].copy()"
   ]
  },
  {
   "cell_type": "code",
   "execution_count": 16,
   "metadata": {},
   "outputs": [
    {
     "name": "stdout",
     "output_type": "stream",
     "text": [
      "CPU times: user 638 ms, sys: 1.38 s, total: 2.02 s\n",
      "Wall time: 3.41 s\n"
     ]
    }
   ],
   "source": [
    "%%time\n",
    "# Vectorize sentences\n",
    "sentence_vectors_4 = use_4_embed(sentences)"
   ]
  },
  {
   "cell_type": "code",
   "execution_count": 17,
   "metadata": {},
   "outputs": [
    {
     "name": "stdout",
     "output_type": "stream",
     "text": [
      "CPU times: user 1min 8s, sys: 19.5 s, total: 1min 28s\n",
      "Wall time: 35.4 s\n"
     ]
    }
   ],
   "source": [
    "%%time\n",
    "sentence_vectors_5 = use_5_embed(sentences)"
   ]
  },
  {
   "cell_type": "code",
   "execution_count": 18,
   "metadata": {
    "scrolled": true
   },
   "outputs": [
    {
     "name": "stdout",
     "output_type": "stream",
     "text": [
      "Cluster #1 sentences (density score: 0.378):\n",
      "\n",
      "I liked the overall story we got from this book but I honestly think I’m just going to leave it at one book.\n",
      "This book easily is now one of my favorite books of all time.\n",
      "I feel like I may need to reread this book in order to properly review it, but wow I'm kind of blown away still.\n",
      "I heard all of the praises for this book but for some reason I didn’t pick it up for the longest time.\n",
      "I’ll certainly be reading book two, and I hope it resonates with me more than this first book.\n",
      "I finally managed to read this book, giving myself a break from the huge pile of forthcoming books that I'm supposed to be reading, and it was even better than I had hoped.\n",
      "Even as I read the book there were so many things about this book that were so well done.\n",
      "What was different with The Fifth Season was that the instant I read the blurb on goodreads I knew that this book was something that I would enjoy immensely and I had some ridiculously stupid expectation.\n",
      "\n",
      "\n",
      "Cluster #2 sentences (density score: 0.308):\n",
      "\n",
      "Everything is done perfectly - the prose is beautiful, even though the second person perspective took a bit to get used to; the worldbuilding is detailed, yet never overbearing; the plot is intricate; and the characters are developed wonderfully.\n",
      "With such rich world-building, relatable characters and compelling storytelling, I just knew I had to see all that through to the end, and the conclusion was a real surprise, both marvelous and disquieting.\n",
      "I think most fans of fantasy would find it a hard-to-put-down narrative with intriguing characters in a fascinating world.\n",
      "It’s very well written and the worldbuilding is interesting, but I don’t give a rat’s ass about the characters.\n",
      "While I found the story well written and the characters intriguing and believable overall, I did dock one star in my rating because I found a certain aspect of the narrative confusing.\n",
      "Brilliant!That's what this book is!I didn't particularly enjoy the second person narrative in some of the chapters, but the story and the characters as well as the emotion the author makes you feel while reading totally makes up for it.\n",
      "I love the unique magic system, I liked the 3 POV storylines that were set in different times, I liked most of the characters and the plot kept me turning pages.\n",
      "There is a lot of terminology to get used to, and the book is told in three intertwining narratives that at first don't seem to match up, but once you get into the world and into the story, it is a fantastically rewarding read.\n",
      "\n",
      "\n",
      "Cluster #3 sentences (density score: 0.285):\n",
      "\n",
      "It's a bit confusing in parts and even at the end I didn't feel like I completely knew what was going.\n",
      "I didn’t like it because throughout my read I was more confused than anything.\n",
      "I enjoyed this a lot more than I thought I would, and I’m even considering picking up the next one.\n",
      "I enjoyed it a lot but at the same time, I'm still not entirely sure what happened.\n",
      "The first half of the book was a little hazy - I wasn't sure what was happening and the point of view characters were confusing to me - but I stuck with it, and I am glad I did.\n",
      "I can say it partly tricked me in to wanting to know what happens next with the final twist, but then I reminded myself exactly how little I was enjoying this for the last third of the book - the part I typically am most in to.\n",
      "I heard all of the praises for this book but for some reason I didn’t pick it up for the longest time.\n",
      "It was so much better!I feel like there is so much I can say about this book, and yet, so much that I don't want to spoil for you.\n",
      "\n",
      "\n",
      "Cluster #4 sentences (density score: 0.256):\n",
      "\n",
      "Volcanic winters have happened many times over the millennia, and this apocalypse, caused by an earth sorcerer called an orogene, will be the end of the world.\n",
      "While this world is rocked by constant tectonic shifts that could at any time upend the lives of everyone living, there are people called orogenes that are capable of moving and controlling the earth itself.\n",
      "This world is so inhospitable that there are volcano and earthquakes happening all that time that threaten life.\n",
      "This world is constantly threatened by natural disasters, which leads to Fifth Seasons every few centuries that leave the world on the brink of extinction.\n",
      "The Fifth Season is set in a far future Earth where cataclysmic, civilization ending natural disasters occur every few centuries.\n",
      "This is a world where earthquakes, volcanic erruptions, and other troubles are constant with people who can manipulate earth and ease these troubles being called orogenes.\n",
      "This planet is beyond unstable, because of Fifth Seasons that happens sporadically, but almost wipe out the planet each and every time.\n",
      "Not satisfied with regular earthquakes, this Stillnes literally blows up every few hundred years in a cataclysmic event that brings about the end of the world time and time again.\n",
      "\n",
      "\n",
      "Cluster #5 sentences (density score: 0.188):\n",
      "\n",
      "She is an orogene, but has hidden her abilities and former life from everyone because orogenes are deeply feared.\n",
      "In the Fulcrum not only does Damaya have to learn to control her orogeny but she has to survive the dangerous contempt of her classmates.\n",
      "Then there is Damaya, a young girl with mysterious earth-moving powers, sold by her own parents to a government handler who asserts control over her in strange and cruel ways.\n",
      "While her family didn't kill her, they immediately repudiate and imprison her - and sell her to a Guardian, who plans to take her to what sounds a lot like a college for wizards, where orogenes will be trained to protect and serve, rather than to destroy.\n",
      "On top of this being an emotional ride as a mother attempts to be reunited with her only living child, it is also a story of a world that has turned people into commodities in its efforts to survive.\n",
      "So she reaches out to one of the other misfits, a girl with vast talent but who is on the ragged edge of losing control due to her temperament and her own bullies, and together they team up and hatch a clever scheme to unveil their common persecutors.\n",
      "He helps her realize how much of a dystopia she is living in, with its brainwashing and twisted psychology employed by the Guardian class of government workers to control the orogenes: They are the gods in chains.\n",
      "Damaya is given away by her terrified family to a Guardian, who will bring her to the Fulcrum, where she will be safe and trained to use her capacities.\n",
      "\n",
      "\n",
      "Cluster #6 sentences (density score: 0.13):\n",
      "\n",
      "It's so different to anything I've ever read before.\n",
      "it's one of the most unique things i've read in a while.\n",
      "It's not so much fantasy as it is.\n",
      "That, in a nutshell, is how reading this entire book feels.\n",
      "There’s so much more to know, I can sess it (haha).\n",
      "There is a lot of emotion in it, even when you know what's about to happen.\n",
      "Sometimes I feel it's the same plot rehashed, over and over.\n",
      "This is a book that loves its own drama; it just needs a bit more of it.\n",
      "\n",
      "\n",
      "Model density score: 0.25758\n"
     ]
    }
   ],
   "source": [
    "# Get cluster sentences with Encoder 4 embeddings\n",
    "get_clusters(sentences, sentence_vectors_4, k=6, n=8)"
   ]
  },
  {
   "cell_type": "code",
   "execution_count": 19,
   "metadata": {
    "scrolled": true
   },
   "outputs": [
    {
     "name": "stdout",
     "output_type": "stream",
     "text": [
      "Cluster #1 sentences (density score: 0.498):\n",
      "\n",
      "The Fifth Season is a beautifully constructed, masterfully executed work of fiction that everyone needs to read.\n",
      "The Fifth Season is pure originality and the best way I've ever seen someone deal with the fantasy genre.\n",
      "The Fifth Season is unlike anything else I have ever read.\n",
      "The Fifth Season was unlike anything I've ever read, and I mean that in the best way possible!\n",
      "The Fifth Season is unlike anything I've read in a long time.\n",
      "The Fifth Season is the most unique book I've read in quite a while.\n",
      "The Fifth Season is a fascinating and intelligent fantasy novel, with exquisite world-building and such interesting characters.\n",
      "”One of the reasons why The Fifth Season has such compelling narratives is Jemisin’s jaw-dropping world-building.\n",
      "\n",
      "\n",
      "Cluster #2 sentences (density score: 0.396):\n",
      "\n",
      "I finally managed to read this book, giving myself a break from the huge pile of forthcoming books that I'm supposed to be reading, and it was even better than I had hoped.\n",
      "I heard all of the praises for this book but for some reason I didn’t pick it up for the longest time.\n",
      "Easily one of the best books I've read in the past couple of years.\n",
      "This book is in easily in contention for one of my favorite reads of the year.\n",
      "I liked the overall story we got from this book but I honestly think I’m just going to leave it at one book.\n",
      "I tried reading this book years ago, but at the time I was too new to the adult fantasy genre to take on this epic read.\n",
      "This is by far the best book I've read all year.\n",
      "I can honestly say this is one of the most original, thought-provoking and fascinating book I have had the pleasure to read in quite a while.\n",
      "\n",
      "\n",
      "Cluster #3 sentences (density score: 0.301):\n",
      "\n",
      "There's immense depth to each and single one of the characters encountered, and it's such a hard thing to bring forth in your world the feeling that each character has a whole life by their own, but N.  K.  Jemisin does that.\n",
      "Her story is written in second person, preset tense, and although unconventional to what I’m used to read when it comes to fantasy, I found this quite refreshing.\n",
      "Everything is done perfectly - the prose is beautiful, even though the second person perspective took a bit to get used to; the worldbuilding is detailed, yet never overbearing; the plot is intricate; and the characters are developed wonderfully.\n",
      "”  The worldbuilding is incredible and dense, there rarely is an info-dump and Jemisin is truly a master of Fantasy for creating such an intricate, fascinating and yet comprehensive universe.\n",
      "I really liked how N. K Jemisin interwove these characters stories and gave each their own unique development.\n",
      "It's wonderful and refreshing to see a talented author playing with narrative conventions within a constrained genre like Epic Fantasy.\n",
      "The writing is excellent, and I was extremely impressed by her use of a prolonged 2nd person point of view storyline that works seamlessly alongside her two third person POV’s.\n",
      "The storytelling is excellent, with three points of views in which one is written in second person, which definitely works for me in this book!\n",
      "\n",
      "\n",
      "Cluster #4 sentences (density score: 0.257):\n",
      "\n",
      "What I didn't like was characterization and (I hate to say it) the writing.\n",
      "There was something about it that kept jarring me out of the tale, never letting me sink in and truly experience what the characters were going through.\n",
      "I enjoyed it a lot but at the same time, I'm still not entirely sure what happened.\n",
      "I didn’t like it because throughout my read I was more confused than anything.\n",
      "I think I actually liked figuring out the characters even more than I liked figuring out the world, and that says something because I really liked that.\n",
      "The writing was an aspect I particularly enjoyed because it felt almost nonchalant to me.\n",
      "I felt there was too much about the story that was insubstantial.\n",
      "It's beautifully written, it's a highly unique concept, and I could not have been more invested in these characters.\n",
      "\n",
      "\n",
      "Cluster #5 sentences (density score: 0.185):\n",
      "\n",
      "This is a world where earthquakes, volcanic erruptions, and other troubles are constant with people who can manipulate earth and ease these troubles being called orogenes.\n",
      "While this world is rocked by constant tectonic shifts that could at any time upend the lives of everyone living, there are people called orogenes that are capable of moving and controlling the earth itself.\n",
      "In this world, there are characters who have powers to shake the earth, freeze people, burn and destroy that are called orogenes; these characters are oppressed and treated as lapdogs who must beg for scraps of civility from the people and society around them.\n",
      "Jemisin has infused this planet with palpable malice and made it a real, living entity that seems to want to kill everything living on it, to purge itself of humanity.\n",
      "Even for a seasoned fantasy or science fiction reader, it is astonishing that she can shape such an original world, complete with a new system of supernatural powers, in which geological forces can be controlled by specially-gifted (or cursed) individuals known as ‘orogenes’.\n",
      "In this scarred world, there are people that have powers, the power to control the earth, start or still seismic activity, cause flash freezing or explosions.\n",
      "Jemisin's creations are: orogenes (societal pariahs gifted with the ability to control geological forces), stone-eaters (non-humans who move through solid rock), and the Broken Earth itself, where the land itself poses the greatest peril to its inhabitants.\n",
      "Humankind survives these devastating \"seasons\" with the help of the oregenes like Essun, Syenite and Damaya, yet they are despised, feared and are actually slaves.\n",
      "\n",
      "\n",
      "Cluster #6 sentences (density score: 0.11):\n",
      "\n",
      "It there is such a thing as dystopian fantasy then this is that.\n",
      "By the end, it will all make so much sense.\n",
      "The world Jemisin creates is as horrific as it is brilliant.\n",
      "This is a story about the end of the world, in more ways than one.\n",
      "And it's also the end of the world for real.\n",
      "“This is what you must remember: the ending of one story is just the beginning of another.\n",
      "“This is what you must remember: the ending of one story is just the beginning of another.\n",
      "“This is what you must remember: the ending of one story is just the beginning of another.\n",
      "\n",
      "\n",
      "Model density score: 0.29123\n"
     ]
    }
   ],
   "source": [
    "# Get cluster sentences with Encoder 5 embeddings\n",
    "get_clusters(sentences, sentence_vectors_5, k=6, n=8)"
   ]
  },
  {
   "cell_type": "markdown",
   "metadata": {},
   "source": [
    "Here again we would give the slight advantage to Encoder 5: its clusters are, overall, slightly more meaningful and slightly more internally cohesive.\n",
    "\n",
    "## Conclusions\n",
    "\n",
    "The two available versions of the Universal Sentence Encoder do indeed show differences in performance: Encoder 4 has better time performance, with respect to both being loaded and embedding sentences, but Encoder 5 seems to perform slightly better in terms of results.\n",
    "\n",
    "Nonetheless, Encoder 5's significantly greater embedding time makes it practically infeasible for the purposes of our algorithm. Thus we will continue to build our algorithm using Encoder 4."
   ]
  }
 ],
 "metadata": {
  "kernelspec": {
   "display_name": "betterreads",
   "language": "python",
   "name": "betterreads"
  },
  "language_info": {
   "codemirror_mode": {
    "name": "ipython",
    "version": 3
   },
   "file_extension": ".py",
   "mimetype": "text/x-python",
   "name": "python",
   "nbconvert_exporter": "python",
   "pygments_lexer": "ipython3",
   "version": "3.8.3"
  }
 },
 "nbformat": 4,
 "nbformat_minor": 4
}
