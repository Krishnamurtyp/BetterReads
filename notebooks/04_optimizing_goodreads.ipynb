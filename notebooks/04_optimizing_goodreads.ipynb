{
 "cells": [
  {
   "cell_type": "markdown",
   "metadata": {},
   "source": [
    "# BetterReads: Optimizing GoodReads review data\n",
    "\n",
    "This notebook explores how to achieve the best results with the BetterReads algorithm when using review data scraped from GoodReads. It is a short follow-up to the exploration performed in the `03_optimizing_reviews.ipynb` notebook.\n",
    "\n",
    "We have two options when scraping review data from GoodReads: For any given book, we can either scrape 1,500 reviews, with 300 reviews for each star rating (1 to 5), or we can scrape just the top 300 reviews, of any rating. (This is due to some quirks in the way that reviews are displayed on the GoodReads website; for more information, see my [GoodReadsReviewsScraper script](https://github.com/williecostello/GoodReadsReviewsScraper).)\n",
    "\n",
    "There are advantages and disadvantages to both options. If we scrape 1,500 reviews, we obviously have more review data to work with; however, the data is artifically class-balanced, such that, for example, we'll still see a good number of negative reviews even if the vast majority of the book's reviews are positive. If we scrape just the top 300 reviews, we will have a more representative dataset, but much less data to work with.\n",
    "\n",
    "We saw in the `03_optimizing_reviews.ipynb` notebook that the BetterReads algorithm can achieve meaningful and representative results from a dataset with less than 100 reviews. So we should not dismiss the 300 review option simply because it involves less data. We should only dismiss it if its smaller dataset leads to worse results. So let's try these two options out on a particular book and see how the algorithm performs."
   ]
  },
  {
   "cell_type": "code",
   "execution_count": 1,
   "metadata": {},
   "outputs": [],
   "source": [
    "import numpy as np\n",
    "import pandas as pd\n",
    "import random\n",
    "\n",
    "from sklearn.cluster import KMeans\n",
    "\n",
    "import tensorflow_hub as hub"
   ]
  },
  {
   "cell_type": "code",
   "execution_count": 2,
   "metadata": {},
   "outputs": [],
   "source": [
    "# Loads Universal Sentence Encoder locally, from downloaded module\n",
    "embed = hub.load('../../Universal Sentence Encoder/module/')\n",
    "\n",
    "# Loads Universal Sentence Encoder remotely, from Tensorflow Hub\n",
    "# embed = hub.load(\"https://tfhub.dev/google/universal-sentence-encoder/4\")"
   ]
  },
  {
   "cell_type": "markdown",
   "metadata": {},
   "source": [
    "## Which set of reviews should we use?\n",
    "\n",
    "For this notebook we'll work with a new example: Sally Rooney's *Conversations with Friends*.\n",
    "\n",
    "<img src='https://i.gr-assets.com/images/S/compressed.photo.goodreads.com/books/1500031338l/32187419._SY475_.jpg' width=250 align=center>\n",
    "\n",
    "We have prepared two datasets, one of 1,500 reviews and another of 300 reviews, as described above. Both datasets were scraped from GoodReads at the same time, so there is some overlap between them. (Note that the total number of reviews in both datasets is less than advertised, since non-English and very short reviews are dropped during data cleaning.)"
   ]
  },
  {
   "cell_type": "code",
   "execution_count": 3,
   "metadata": {},
   "outputs": [
    {
     "name": "stdout",
     "output_type": "stream",
     "text": [
      "The first dataset consists of 8604 sentences from 1190 reviews\n",
      "The second dataset consists of 2874 sentences from 293 reviews\n"
     ]
    }
   ],
   "source": [
    "# Set path for processed file\n",
    "file_path_1500 = 'data/32187419_conversations_with_friends.csv'\n",
    "file_path_300 = 'data/32187419_conversations_with_friends_top_300.csv'\n",
    "\n",
    "# Read in processed file as dataframe\n",
    "df_1500 = pd.read_csv(file_path_1500)\n",
    "df_300 = pd.read_csv(file_path_300)\n",
    "\n",
    "print(f'The first dataset consists of {df_1500.shape[0]} sentences from {df_1500[\"review_index\"].nunique()} reviews')\n",
    "print(f'The second dataset consists of {df_300.shape[0]} sentences from {df_300[\"review_index\"].nunique()} reviews')"
   ]
  },
  {
   "cell_type": "markdown",
   "metadata": {},
   "source": [
    "As we can see above, in comparison to the smaller dataset, the bigger dataset contains approximately three times the number of sentences from four times the number of reviews. And as we can see below, the bigger dataset contains approximately the same number of reviews for each star rating, while the smaller dataset is much more heavily skewed toward 5 star and 4 star reviews."
   ]
  },
  {
   "cell_type": "code",
   "execution_count": 4,
   "metadata": {},
   "outputs": [
    {
     "data": {
      "text/plain": [
       "1.0    252\n",
       "2.0    250\n",
       "3.0    239\n",
       "4.0    212\n",
       "5.0    237\n",
       "Name: rating, dtype: int64"
      ]
     },
     "execution_count": 4,
     "metadata": {},
     "output_type": "execute_result"
    }
   ],
   "source": [
    "df_1500.groupby('review_index')['rating'].mean().value_counts().sort_index()"
   ]
  },
  {
   "cell_type": "code",
   "execution_count": 5,
   "metadata": {},
   "outputs": [
    {
     "data": {
      "text/plain": [
       "1.0     14\n",
       "2.0     27\n",
       "3.0     46\n",
       "4.0     80\n",
       "5.0    116\n",
       "Name: rating, dtype: int64"
      ]
     },
     "execution_count": 5,
     "metadata": {},
     "output_type": "execute_result"
    }
   ],
   "source": [
    "df_300.groupby('review_index')['rating'].mean().value_counts().sort_index()"
   ]
  },
  {
   "cell_type": "markdown",
   "metadata": {},
   "source": [
    "On [the book's actual GoodReads page](https://www.goodreads.com/book/show/32187419-conversations-with-friends), its average review rating is listed as 3.82 stars. This is nearly the same as the average review rating of our smaller dataset. The bigger dataset's average review rating, in contrast, is just less than 3. This confirms our earlier suspicion that the smaller dataset presents a more representative sample of the book's full set of reviews."
   ]
  },
  {
   "cell_type": "code",
   "execution_count": 6,
   "metadata": {},
   "outputs": [
    {
     "data": {
      "text/plain": [
       "3.908127208480565"
      ]
     },
     "execution_count": 6,
     "metadata": {},
     "output_type": "execute_result"
    }
   ],
   "source": [
    "df_300.groupby('review_index')['rating'].mean().mean()"
   ]
  },
  {
   "cell_type": "code",
   "execution_count": 7,
   "metadata": {},
   "outputs": [
    {
     "data": {
      "text/plain": [
       "2.942857142857143"
      ]
     },
     "execution_count": 7,
     "metadata": {},
     "output_type": "execute_result"
    }
   ],
   "source": [
    "df_1500.groupby('review_index')['rating'].mean().mean()"
   ]
  },
  {
   "cell_type": "markdown",
   "metadata": {},
   "source": [
    "Let's see how these high-level differences affect the output of our algorithm."
   ]
  },
  {
   "cell_type": "code",
   "execution_count": 11,
   "metadata": {},
   "outputs": [],
   "source": [
    "def load_sentences(file_path):\n",
    "    '''\n",
    "    Function to load and embed a book's sentences\n",
    "    '''\n",
    "    \n",
    "    # Read in processed file as dataframe\n",
    "    df = pd.read_csv(file_path)\n",
    "\n",
    "    # Copy sentence column to new variable\n",
    "    sentences = df['sentence'].copy()\n",
    "\n",
    "    # Vectorize sentences\n",
    "    sentence_vectors = embed(sentences)\n",
    "    \n",
    "    return sentences, sentence_vectors"
   ]
  },
  {
   "cell_type": "code",
   "execution_count": 9,
   "metadata": {},
   "outputs": [],
   "source": [
    "def get_clusters(sentences, sentence_vectors, k, n):\n",
    "    '''\n",
    "    Function to extract the n most representative sentences from k clusters, with density scores\n",
    "    '''\n",
    "    \n",
    "    # Instantiate the model\n",
    "    kmeans_model = KMeans(n_clusters=k, random_state=24)\n",
    "\n",
    "    # Fit the model\n",
    "    kmeans_model.fit(sentence_vectors);\n",
    "\n",
    "    # Set the number of cluster centre points to look at when calculating density score\n",
    "    centre_points = int(len(sentences) * 0.02)\n",
    "    \n",
    "    # Initialize list to store mean inner product value for each cluster\n",
    "    cluster_density_scores = []\n",
    "    \n",
    "    # Initialize dataframe to store cluster centre sentences\n",
    "    df = pd.DataFrame()\n",
    "\n",
    "    # Loop through number of clusters\n",
    "    for i in range(k):\n",
    "\n",
    "        # Define cluster centre\n",
    "        centre = kmeans_model.cluster_centers_[i]\n",
    "\n",
    "        # Calculate inner product of cluster centre and sentence vectors\n",
    "        ips = np.inner(centre, sentence_vectors)\n",
    "\n",
    "        # Find the sentences with the highest inner products\n",
    "        top_indices = pd.Series(ips).nlargest(n).index\n",
    "        top_sentences = list(sentences[top_indices])\n",
    "        \n",
    "        centre_ips = pd.Series(ips).nlargest(centre_points)\n",
    "        density_score = round(np.mean(centre_ips), 5)\n",
    "        \n",
    "        # Append the cluster density score to master list\n",
    "        cluster_density_scores.append(density_score)\n",
    "\n",
    "        # Create new row with cluster's top 10 sentences and density score\n",
    "        new_row = pd.Series([top_sentences, density_score])\n",
    "        \n",
    "        # Append new row to master dataframe\n",
    "        df = df.append(new_row, ignore_index=True)\n",
    "\n",
    "    # Rename dataframe columns\n",
    "    df.columns = ['sentences', 'density']\n",
    "\n",
    "    # Sort dataframe by density score, from highest to lowest\n",
    "    df = df.sort_values(by='density', ascending=False).reset_index(drop=True)\n",
    "    \n",
    "    # Loop through number of clusters selected\n",
    "    for i in range(k):\n",
    "        \n",
    "        # Save density / similarity score & sentence list to variables\n",
    "        sim_score = round(df.loc[i][\"density\"], 3)\n",
    "        sents = df.loc[i]['sentences'].copy()\n",
    "        \n",
    "        print(f'Cluster #{i+1} sentences (density score: {sim_score}):\\n')\n",
    "        print(*sents, sep='\\n')\n",
    "        print('\\n')\n",
    "        \n",
    "    model_density_score = round(np.mean(cluster_density_scores), 5)\n",
    "    \n",
    "    print(f'Model density score: {model_density_score}')"
   ]
  },
  {
   "cell_type": "code",
   "execution_count": 12,
   "metadata": {},
   "outputs": [],
   "source": [
    "# Load and embed sentences\n",
    "sentences_1500, sentence_vectors_1500 = load_sentences(file_path_1500)\n",
    "sentences_300, sentence_vectors_300 = load_sentences(file_path_300)"
   ]
  },
  {
   "cell_type": "code",
   "execution_count": 14,
   "metadata": {
    "scrolled": true
   },
   "outputs": [
    {
     "name": "stdout",
     "output_type": "stream",
     "text": [
      "Cluster #1 sentences (density score: 0.437):\n",
      "\n",
      "Sally Rooney has a really interesting way of writing, which I deeply appreciate.\n",
      "i just cannot get over how well Sally Rooney writes.\n",
      "I think that Sally Rooney is a fantastic writer.\n",
      "I'm very happy I read Rooney's Normal People first and loved it so deeply, bc I feel certain I would actively avoid Sally Rooney if this book was the first piece of writing I read by her.\n",
      "Sally Rooney is a brilliant writer, and I was really looking forward to this from reading her short fiction.\n",
      "I can only write that I love it even more than \"Normal people\" and I can't wait for more book by Sally Rooney.\n",
      "I love how Sally Rooney writes - naturally and simply.\n",
      "Well-written because it’s Sally Rooney and so even her debut is brilliant.\n",
      "\n",
      "\n",
      "Cluster #2 sentences (density score: 0.392):\n",
      "\n",
      "I really just couldn't get with this book.\n",
      "I enjoyed this book way more than I thought I would at the beginning.\n",
      "Don’t get me wrong I did enjoy this book, but I think I expected more from it?\n",
      "Reading this book is delightful, I didn’t want it to end.\n",
      "Not sure I'm a fan of the writing style of this book, but it was an easy read.\n",
      "I have never read a book that as I was reading it was so forgettable.\n",
      "I really don’t know how I feel about this book but the writing is undeniably good.\n",
      "That being said, I actually did enjoy reading this book and devoured it quickly!\n",
      "\n",
      "\n",
      "Cluster #3 sentences (density score: 0.38):\n",
      "\n",
      "I think the merits of this book lie in the writing and the characters (although I also thought the characters were somewhat insufferable and pretentious).\n",
      "Unbelievably even more than I disliked the characters, I did not enjoy the writing style of this book.\n",
      "I even felt in the beginning that the book felt not very special, with the odd writing style and the slightly unlikeable characters.\n",
      "I understand that a book having unlikable characters does not make the book unlikeable but they have to be compelling for the reader to want to follow them through the story and the protagonist and side characters were very much lacking in this regard.\n",
      "The author's writing is pretty good, I just didn't really like the characters and never really seemed to connect with them, which then makes me not as engaged with the plot line.\n",
      "Such deeply unlikeable characters, and whilst that doesn't normally stop me from enjoying a book in this instance it did and I found their conversations to be so self indulgent and dull, finishing it was a struggle.\n",
      "I found the book boring and the characters so self absorbed and overly dramatic.\n",
      "I will say that the writing is good, but the characters are weird and pretty horrible “people”.\n",
      "\n",
      "\n",
      "Cluster #4 sentences (density score: 0.353):\n",
      "\n",
      "I think my main problem with the novel is that it seems like it should have been about the two young women, Frances and Bobbi, but it was actually about Frances and her totally predictable affair with Nick, so handsome!\n",
      "There were times I was curious to see how it would play out with Frances & Nick, as well as Frances' relationship with Bobbi.\n",
      "Frances and Bobbi are great characters, but Frances spends so much of the book just involved with Nick, and unlike Connell, he's simply too blank, too opaque, too ideal of a guy in many ways, to be interesting in any way.\n",
      "It is just Bobbi and Frances being horrible, Frances sleeping with Nick, that is about it.\n",
      "And I genuinely was invested in the plot between Bobbi and Frances and Frances and her parents but woo, did not care for Nick or Melissa.\n",
      "The relationship between Bobbi and Frances is enjoyable to read, they are forging a different path and creating their own definition of relationship, but Frances and Nick is a snoozefest.\n",
      "When Frances writes a story in which she and her friend Bobbi are easily identified, Bobbi is truly shocked at how Frances sees their relationship in the story.\n",
      "Frances publishes a story about Bobbi, and Bobbi feels betrayed because Frances could never say those things to her.\n",
      "\n",
      "\n",
      "Cluster #5 sentences (density score: 0.225):\n",
      "\n",
      "I didn’t really find this to be an enjoyable read.\n",
      "I didn’t quite enjoy this as much as normal people but I still thought it was a entertaining read\n",
      "but actually I enjoyed it more than I thought I would.\n",
      "I didn’t get into it at all, it was just blah blah blah to me.\n",
      "Maybe I didn't like it because I couldn't relate to it?\n",
      "I wasn't expecting to like it - full of moany twenty-somethings - I'd heard.\n",
      "I didn't think I was going to like it but I liked it quite a lot.\n",
      "I won’t even begin to try to intellectualize why I liked it.\n",
      "\n",
      "\n",
      "Cluster #6 sentences (density score: 0.215):\n",
      "\n",
      "This feels both true and difficult, as I’ve never read a writer who so intimately seems to understand modern, young relationships, feelings and fears as she does.\n",
      "Whereas Normal People spoke a bit more to the gravitational pull of a romantic relationship, Conversations With Friends captured the main character’s dysfunction and yearning to just be seen and valued by those around her.\n",
      "She writes about relationships with so much care and detail that it becomes hard to separate yourself from the characters.\n",
      "This is how Frances feels and thinks and talks, all in one, and though there are a lot of things about her that are not objectively relatable to me, she has become one of the most relatable characters I've ever read.\n",
      "Conversations with Friends is a tiresome story of an emotionally unavailable and slightly manipulative young woman and her romantic entanglements.\n",
      "Her characters can be so swooningly affectionate with one another--and so ferociously cutting and so perfectly empathetic--that even at their most toxic moments (and there are lots), watching their relationships unfold feels like a privilege.\n",
      "The plot offers nothing new either, there's been plenty of books on naive young adults pursuing unhealthy relationships before, as well as characters who make drama out of nothing and try to drag others in to their narcissism.\n",
      "The way she writes relationships and conversations between the characters, making them normal and not artefact at all but at the same time not being trivial, it's exquisite.\n",
      "\n",
      "\n",
      "Model density score: 0.33358\n"
     ]
    }
   ],
   "source": [
    "# Get cluster sentences for bigger dataset\n",
    "get_clusters(sentences_1500, sentence_vectors_1500, k=6, n=8)"
   ]
  },
  {
   "cell_type": "code",
   "execution_count": 15,
   "metadata": {
    "scrolled": true
   },
   "outputs": [
    {
     "name": "stdout",
     "output_type": "stream",
     "text": [
      "Cluster #1 sentences (density score: 0.44):\n",
      "\n",
      "i just cannot get over how well Sally Rooney writes.\n",
      "I finished CONVERSATIONS WITH FRIENDS by Sally Rooney this morning and once again I am in awe of Rooney's writing.\n",
      "Rooney really seems to understand the lives of her chracters.\n",
      "I'm looking forward to reading anything else that Sally Rooney writes.\n",
      "Sally Rooney has become one of my favorite writers.\n",
      "Rooney is an excellent writer; I desperately hope she is just getting started.\n",
      "Sally Rooney makes me feel like I could do anything in life as long as I wrote about it well.\n",
      "I can’t wait to read whatever Sally Rooney comes out with next!\n",
      "\n",
      "\n",
      "Cluster #2 sentences (density score: 0.365):\n",
      "\n",
      "There were times I was curious to see how it would play out with Frances & Nick, as well as Frances' relationship with Bobbi.\n",
      "The book follows Frances and her best friend Bobbi, who become entangled with a married couple, Nick and Melissa.\n",
      "Frances and Nick end up in a relationship and the conversations between them are low-key and unemotional on the surface; however, Frances is concealing her thoughts from herself.\n",
      "Bobbie is interested in Melissa, while Frances falls in love with Nick and they start having an affair.\n",
      "This book revolves around two college students in Dublin named Frances and Bobbi and their relationship with Melissa & Nick who are a married couple they meet early in the story.\n",
      "In short, this novel focuses on friends Frances and Bobbi and the interesting relationship that they share with a married couple.\n",
      "Their lives become entwined, but we mostly follow the relationships between Frances and Bobbi, and Frances and Nick, after they start having an affair.\n",
      "Another problem is that the main protagonists, Frances and her older, married paramour, Nick are just not very interesting.\n",
      "\n",
      "\n",
      "Cluster #3 sentences (density score: 0.361):\n",
      "\n",
      "Turns out that I absolutely loved this book.\n",
      "Ok, this book is interesting and I am not disappointed to have read it.\n",
      "I am delightfully surprised by how much I loved this book.\n",
      "Anyway, I loved this book so much!\n",
      "I’ve had this book on my TBR list for a while, so I was really excited when I found out that it would be the next book group read.\n",
      "I really didn't find this book too interesting.\n",
      "I loved everything about this book.\n",
      "I heard very good reviews of this book before reading it so I’m not sure if I’m overly influenced by those .\n",
      "\n",
      "\n",
      "Cluster #4 sentences (density score: 0.339):\n",
      "\n",
      "I think the merits of this book lie in the writing and the characters (although I also thought the characters were somewhat insufferable and pretentious).\n",
      "I even felt in the beginning that the book felt not very special, with the odd writing style and the slightly unlikeable characters.\n",
      "The author's writing is pretty good, I just didn't really like the characters and never really seemed to connect with them, which then makes me not as engaged with the plot line.\n",
      "It’s really interesting because some of her characters are unlikeable at times, but they feel realistic and they always develop as the story goes on and it’s really quite entertaining to read about.\n",
      "the characters aren’t particularly likeable, and the situation they are in isn’t particularly common, but it is interesting and I can tell it’s very well written.\n",
      "I liked the way it facilitated the story, but unlike in some other novels, the writing style isn't a notable part of the experience of Conversations with Friends.\n",
      "I really liked the ending and the way the protagonist was portrayed by the author (I saw a lot of myself in her, or rather I saw the worst side of myself) but at the same time I was frustrated with her character arc.\n",
      "I enjoy reading about self-centered, unlikeable characters but they have to be interesting which was not the case for me.\n",
      "\n",
      "\n",
      "Cluster #5 sentences (density score: 0.22):\n",
      "\n",
      "I'm glad I perserverd though and then it really drew me in.\n",
      "but actually I enjoyed it more than I thought I would.\n",
      "I won’t even begin to try to intellectualize why I liked it.\n",
      "I wasn't expecting to like it - full of moany twenty-somethings - I'd heard.\n",
      "I felt like I was supposed to be predisposed to like this.\n",
      "Sooooo, it took me a while to gather my thoughts on this one and I still have mixed feelings about it.\n",
      "I can see why people would hate this, but I loved it.\n",
      "The weird thing, though, is that I did really enjoy it.\n",
      "\n",
      "\n",
      "Cluster #6 sentences (density score: 0.205):\n",
      "\n",
      "Whereas Normal People spoke a bit more to the gravitational pull of a romantic relationship, Conversations With Friends captured the main character’s dysfunction and yearning to just be seen and valued by those around her.\n",
      "Her characters can be so swooningly affectionate with one another--and so ferociously cutting and so perfectly empathetic--that even at their most toxic moments (and there are lots), watching their relationships unfold feels like a privilege.\n",
      "She's insightful about the emotions involved in falling in love when one is both young and doing one's best to not admit to any sort of emotional entanglement.\n",
      "The way she writes relationships and conversations between the characters, making them normal and not artefact at all but at the same time not being trivial, it's exquisite.\n",
      "Altogether Conversations With Friends is an intelligent character study on falling in love, cultivating a relationship, and all of the simplicities and complexities that come with it.\n",
      "The plot offers nothing new either, there's been plenty of books on naive young adults pursuing unhealthy relationships before, as well as characters who make drama out of nothing and try to drag others in to their narcissism.\n",
      "It’s a beautiful and subtle novel with emotionally charged characters and nuances that felt so natural, mirroring the everyday aspects and constants in somebody’s lives: as simple as having a conversation with a friend.\n",
      "Sally Rooney’s novel, Conversations With Friends, reveals the complexities of relationships in the onset of love, platonically and otherwise, with a direct honesty and realism that made it difficult not to relate to.\n",
      "\n",
      "\n",
      "Model density score: 0.32165\n"
     ]
    }
   ],
   "source": [
    "# Get cluster sentences for smaller dataset\n",
    "get_clusters(sentences_300, sentence_vectors_300, k=6, n=8)"
   ]
  },
  {
   "cell_type": "markdown",
   "metadata": {},
   "source": [
    "Let's summarize our results. The bigger dataset's sentence clusters can be summed up as follows:\n",
    "\n",
    "1. Fantastic writing\n",
    "1. Reading experience (?)\n",
    "1. Unlikeable characters\n",
    "1. Plot synopsis\n",
    "1. Not enjoyable\n",
    "1. Thematic elements: relationships & emotions\n",
    "\n",
    "The smaller dataset's clusters can be summed up like this:\n",
    "\n",
    "1. Fantastic writing\n",
    "1. Plot synopsis\n",
    "1. Loved it\n",
    "1. Unlikeable characters\n",
    "1. Reading experience\n",
    "1. Thematic elements: Relationships & emotions\n",
    "\n",
    "As we can see, the two sets of results are broadly similar; there are no radical differences between the two sets of clusters. The only major difference is that the bigger dataset includes a cluster of sentences expressing dislike of the book, whereas the smaller dataset includes a cluster of sentences expressing love of the book. But this was to be expected, given the relative proportions of positive and negative reviews between the two datasets.\n",
    "\n",
    "Given these results, we feel that the smaller dataset is preferable. Its clusters seem slightly more internally coherent and to better capture the general sentiment toward the book."
   ]
  }
 ],
 "metadata": {
  "kernelspec": {
   "display_name": "betterreads",
   "language": "python",
   "name": "betterreads"
  },
  "language_info": {
   "codemirror_mode": {
    "name": "ipython",
    "version": 3
   },
   "file_extension": ".py",
   "mimetype": "text/x-python",
   "name": "python",
   "nbconvert_exporter": "python",
   "pygments_lexer": "ipython3",
   "version": "3.8.3"
  }
 },
 "nbformat": 4,
 "nbformat_minor": 4
}
